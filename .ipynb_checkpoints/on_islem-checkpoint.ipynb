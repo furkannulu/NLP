{
 "cells": [
  {
   "cell_type": "markdown",
   "id": "32e9c267-b416-4a20-a2fa-49e1c546946e",
   "metadata": {},
   "source": [
    "# Ön İşlem"
   ]
  },
  {
   "cell_type": "code",
   "execution_count": 15,
   "id": "202b15eb-63f4-4442-9750-e5ba215677c6",
   "metadata": {},
   "outputs": [],
   "source": [
    "import pandas as pd"
   ]
  },
  {
   "cell_type": "code",
   "execution_count": 16,
   "id": "16251654-ead9-4246-94e7-622874285b89",
   "metadata": {},
   "outputs": [],
   "source": [
    "df = pd.read_csv(\"NLP/data/nlp.csv\",index_col = 0)"
   ]
  },
  {
   "cell_type": "code",
   "execution_count": 17,
   "id": "0e8afd9b-70e2-44a5-a812-4c10aadf4c78",
   "metadata": {},
   "outputs": [
    {
     "data": {
      "text/html": [
       "<div>\n",
       "<style scoped>\n",
       "    .dataframe tbody tr th:only-of-type {\n",
       "        vertical-align: middle;\n",
       "    }\n",
       "\n",
       "    .dataframe tbody tr th {\n",
       "        vertical-align: top;\n",
       "    }\n",
       "\n",
       "    .dataframe thead th {\n",
       "        text-align: right;\n",
       "    }\n",
       "</style>\n",
       "<table border=\"1\" class=\"dataframe\">\n",
       "  <thead>\n",
       "    <tr style=\"text-align: right;\">\n",
       "      <th></th>\n",
       "      <th>Text</th>\n",
       "    </tr>\n",
       "  </thead>\n",
       "  <tbody>\n",
       "    <tr>\n",
       "      <th>0</th>\n",
       "      <td>Yapay Zeka Nedir, Ne İşe Yarar?\\n\\nYapay zeka ...</td>\n",
       "    </tr>\n",
       "    <tr>\n",
       "      <th>1</th>\n",
       "      <td>🔎 Verilerinizi analiz edin: \\nChatGPT'yi kulla...</td>\n",
       "    </tr>\n",
       "    <tr>\n",
       "      <th>2</th>\n",
       "      <td>Öncelikle yapay zekanın ne olduğunu, #dijitala...</td>\n",
       "    </tr>\n",
       "    <tr>\n",
       "      <th>3</th>\n",
       "      <td>9. Baidu Research: Çin'in önde gelen arama mot...</td>\n",
       "    </tr>\n",
       "    <tr>\n",
       "      <th>4</th>\n",
       "      <td>4. Microsoft AI: Microsoft'un yapay zeka tekno...</td>\n",
       "    </tr>\n",
       "    <tr>\n",
       "      <th>...</th>\n",
       "      <td>...</td>\n",
       "    </tr>\n",
       "    <tr>\n",
       "      <th>853</th>\n",
       "      <td>doğal dil işleme alanında yüksek lisans-doktor...</td>\n",
       "    </tr>\n",
       "    <tr>\n",
       "      <th>854</th>\n",
       "      <td>dogal dil isleme şeyleri</td>\n",
       "    </tr>\n",
       "    <tr>\n",
       "      <th>855</th>\n",
       "      <td>Bir veri madenciliği ve doğal dil işleme uygul...</td>\n",
       "    </tr>\n",
       "    <tr>\n",
       "      <th>856</th>\n",
       "      <td>\"Doğal dil işleme\" ile ilgili deneyimi olan ya...</td>\n",
       "    </tr>\n",
       "    <tr>\n",
       "      <th>857</th>\n",
       "      <td>Haftaya öğrencilik hayatıma kaldığım yerden de...</td>\n",
       "    </tr>\n",
       "  </tbody>\n",
       "</table>\n",
       "<p>858 rows × 1 columns</p>\n",
       "</div>"
      ],
      "text/plain": [
       "                                                  Text\n",
       "0    Yapay Zeka Nedir, Ne İşe Yarar?\\n\\nYapay zeka ...\n",
       "1    🔎 Verilerinizi analiz edin: \\nChatGPT'yi kulla...\n",
       "2    Öncelikle yapay zekanın ne olduğunu, #dijitala...\n",
       "3    9. Baidu Research: Çin'in önde gelen arama mot...\n",
       "4    4. Microsoft AI: Microsoft'un yapay zeka tekno...\n",
       "..                                                 ...\n",
       "853  doğal dil işleme alanında yüksek lisans-doktor...\n",
       "854                           dogal dil isleme şeyleri\n",
       "855  Bir veri madenciliği ve doğal dil işleme uygul...\n",
       "856  \"Doğal dil işleme\" ile ilgili deneyimi olan ya...\n",
       "857  Haftaya öğrencilik hayatıma kaldığım yerden de...\n",
       "\n",
       "[858 rows x 1 columns]"
      ]
     },
     "execution_count": 17,
     "metadata": {},
     "output_type": "execute_result"
    }
   ],
   "source": [
    "df"
   ]
  },
  {
   "cell_type": "code",
   "execution_count": 18,
   "id": "f0b9b08a-8e9d-43ab-bbea-55245ca2cf89",
   "metadata": {},
   "outputs": [
    {
     "data": {
      "text/html": [
       "<div>\n",
       "<style scoped>\n",
       "    .dataframe tbody tr th:only-of-type {\n",
       "        vertical-align: middle;\n",
       "    }\n",
       "\n",
       "    .dataframe tbody tr th {\n",
       "        vertical-align: top;\n",
       "    }\n",
       "\n",
       "    .dataframe thead th {\n",
       "        text-align: right;\n",
       "    }\n",
       "</style>\n",
       "<table border=\"1\" class=\"dataframe\">\n",
       "  <thead>\n",
       "    <tr style=\"text-align: right;\">\n",
       "      <th></th>\n",
       "      <th>Text</th>\n",
       "    </tr>\n",
       "  </thead>\n",
       "  <tbody>\n",
       "    <tr>\n",
       "      <th>0</th>\n",
       "      <td>Yapay Zeka Nedir, Ne İşe Yarar?\\n\\nYapay zeka ...</td>\n",
       "    </tr>\n",
       "    <tr>\n",
       "      <th>1</th>\n",
       "      <td>🔎 Verilerinizi analiz edin: \\nChatGPT'yi kulla...</td>\n",
       "    </tr>\n",
       "    <tr>\n",
       "      <th>2</th>\n",
       "      <td>Öncelikle yapay zekanın ne olduğunu, #dijitala...</td>\n",
       "    </tr>\n",
       "    <tr>\n",
       "      <th>3</th>\n",
       "      <td>9. Baidu Research: Çin'in önde gelen arama mot...</td>\n",
       "    </tr>\n",
       "    <tr>\n",
       "      <th>4</th>\n",
       "      <td>4. Microsoft AI: Microsoft'un yapay zeka tekno...</td>\n",
       "    </tr>\n",
       "  </tbody>\n",
       "</table>\n",
       "</div>"
      ],
      "text/plain": [
       "                                                Text\n",
       "0  Yapay Zeka Nedir, Ne İşe Yarar?\\n\\nYapay zeka ...\n",
       "1  🔎 Verilerinizi analiz edin: \\nChatGPT'yi kulla...\n",
       "2  Öncelikle yapay zekanın ne olduğunu, #dijitala...\n",
       "3  9. Baidu Research: Çin'in önde gelen arama mot...\n",
       "4  4. Microsoft AI: Microsoft'un yapay zeka tekno..."
      ]
     },
     "execution_count": 18,
     "metadata": {},
     "output_type": "execute_result"
    }
   ],
   "source": [
    "df.head()"
   ]
  },
  {
   "cell_type": "code",
   "execution_count": 19,
   "id": "f7558741-39f3-410b-9509-13535d52b2ec",
   "metadata": {},
   "outputs": [
    {
     "data": {
      "text/plain": [
       "'\"Yapay zeka dünyası hızla gelişiyor! Son zamanlarda, GPT-3, BERT ve benzeri doğal dil işleme modelleri ile daha da popüler hale geldi. Bu modeller, insanlar tarafından üretilen metinleri analiz ederek, dilin yapısını ve anlamını kavrayabiliyorlar.'"
      ]
     },
     "execution_count": 19,
     "metadata": {},
     "output_type": "execute_result"
    }
   ],
   "source": [
    "df.loc[100,\"Text\"]"
   ]
  },
  {
   "cell_type": "code",
   "execution_count": 44,
   "id": "95f23927-69c8-469e-baa1-f7397a57ff01",
   "metadata": {},
   "outputs": [
    {
     "data": {
      "text/plain": [
       "'halil ibrahim '"
      ]
     },
     "execution_count": 44,
     "metadata": {},
     "output_type": "execute_result"
    }
   ],
   "source": [
    "# sayısal deüerlerin kaldırılması\n",
    "def remove_numeric(value):\n",
    "    bfr = [item for item in value if not item.isdigit()]\n",
    "    bfr = \"\".join(bfr)\n",
    "    return bfr\n",
    "\n",
    "text = \"halil ibrahim 123\"\n",
    "remove_numeric(text)"
   ]
  },
  {
   "cell_type": "code",
   "execution_count": 21,
   "id": "32dc44cf-57f2-4e03-aff2-40221619caae",
   "metadata": {},
   "outputs": [],
   "source": [
    "import re"
   ]
  },
  {
   "cell_type": "code",
   "execution_count": 14,
   "id": "ab483aaf-cd38-46e7-b2f2-02419ac7783d",
   "metadata": {},
   "outputs": [
    {
     "data": {
      "text/plain": [
       "'furkan ulu '"
      ]
     },
     "execution_count": 14,
     "metadata": {},
     "output_type": "execute_result"
    }
   ],
   "source": [
    "# Emojilerin Kaldırılması\n",
    "def remove_emoji(value):\n",
    "    bfr = re.compile(\"[\\U00010000-\\U0010ffff]\",flags = re.UNICODE)\n",
    "    bfr = bfr.sub(r'',value)\n",
    "    return bfr\n",
    "text = \"furkan ulu 😀\"\n",
    "remove_emoji(text)"
   ]
  },
  {
   "cell_type": "code",
   "execution_count": 27,
   "id": "3a94f2fd-ea3d-4dfd-9190-9c3c075b1b4e",
   "metadata": {},
   "outputs": [
    {
     "data": {
      "text/plain": [
       "'Furkan ULU'"
      ]
     },
     "execution_count": 27,
     "metadata": {},
     "output_type": "execute_result"
    }
   ],
   "source": [
    "# Tek Karakterli İfadelerin Kaldırılması\n",
    "def remove_singe_chracter(value):\n",
    "    return re.sub(r'(?:^| )\\w(?:$| )','',value)\n",
    "text = \"Furkan ULU h\"\n",
    "remove_singe_chracter(text)"
   ]
  },
  {
   "cell_type": "code",
   "execution_count": 28,
   "id": "974efe30-ff9c-4af2-8fb9-808511a9d4cf",
   "metadata": {},
   "outputs": [
    {
     "data": {
      "text/plain": [
       "'furkan ulu'"
      ]
     },
     "execution_count": 28,
     "metadata": {},
     "output_type": "execute_result"
    }
   ],
   "source": [
    "# Noktalama İşaretlerinin Kaldırılması\n",
    "def remove_noktalama(value):\n",
    "    return re.sub(r'[^\\w\\s]','',value)\n",
    "text = \"furkan ulu.\"\n",
    "remove_noktalama(text)"
   ]
  },
  {
   "cell_type": "code",
   "execution_count": 30,
   "id": "32d238cf-15e7-44fe-aeff-0e2a8624bb3f",
   "metadata": {},
   "outputs": [
    {
     "data": {
      "text/plain": [
       "'furkan '"
      ]
     },
     "execution_count": 30,
     "metadata": {},
     "output_type": "execute_result"
    }
   ],
   "source": [
    "# Linklerin Kaldırılması\n",
    "def remove_link(value):\n",
    "    return re.sub('((www\\.[^\\s]+)|(https?://[^\\s]+))','',value)\n",
    "    \n",
    "text = \"furkan https://tr.wikipedia.org/wiki/Do%C4%9Fal_dil_i%C5%9Fleme\"\n",
    "remove_link(text)"
   ]
  },
  {
   "cell_type": "code",
   "execution_count": 32,
   "id": "3a6ddc45-e6fa-4072-a074-3854e184914d",
   "metadata": {},
   "outputs": [
    {
     "data": {
      "text/plain": [
       "'furkan '"
      ]
     },
     "execution_count": 32,
     "metadata": {},
     "output_type": "execute_result"
    }
   ],
   "source": [
    "# Hashtaglerin Kaldırılması\n",
    "def remove_hashtag(value):\n",
    "    return re.sub(r'#[^\\s]+','',value)\n",
    "text = \"furkan #nlp\"\n",
    "remove_hashtag(text)"
   ]
  },
  {
   "cell_type": "code",
   "execution_count": 33,
   "id": "ea4e4c20-72a6-49c1-b99b-25642d1627e9",
   "metadata": {},
   "outputs": [
    {
     "data": {
      "text/plain": [
       "'furkan '"
      ]
     },
     "execution_count": 33,
     "metadata": {},
     "output_type": "execute_result"
    }
   ],
   "source": [
    "# Kullanıcı Adlarının Kaldırılması\n",
    "def remove_username(value):\n",
    "    return re.sub('@[^\\s]+','',value)\n",
    "text = \"furkan @ulu\"\n",
    "remove_username(text)"
   ]
  },
  {
   "cell_type": "code",
   "execution_count": 34,
   "id": "86de692a-7120-41bc-8535-0ee9c1703337",
   "metadata": {},
   "outputs": [
    {
     "name": "stdout",
     "output_type": "stream",
     "text": [
      "Collecting snowballstemmer\n",
      "  Downloading snowballstemmer-2.2.0-py2.py3-none-any.whl (93 kB)\n",
      "     -------------------------------------- 93.0/93.0 kB 587.0 kB/s eta 0:00:00\n",
      "Installing collected packages: snowballstemmer\n",
      "Successfully installed snowballstemmer-2.2.0\n"
     ]
    }
   ],
   "source": [
    "!pip install snowballstemmer"
   ]
  },
  {
   "cell_type": "code",
   "execution_count": 42,
   "id": "d821d028-744e-4d37-baaf-c968d9c35427",
   "metadata": {},
   "outputs": [
    {
     "data": {
      "text/plain": [
       "'bugu yorgu'"
      ]
     },
     "execution_count": 42,
     "metadata": {},
     "output_type": "execute_result"
    }
   ],
   "source": [
    "import snowballstemmer\n",
    "\n",
    "def stem_word(value):\n",
    "    stemmer = snowballstemmer.stemmer(\"turkish\")\n",
    "    value = value.lower()\n",
    "    value = stemmer.stemWords(value.split())\n",
    "    stop_words=['acaba', 'ama', 'aslinda', 'az', 'bazı', 'belki', 'biri', 'birkaç', 'birşey', 'biz',\n",
    "                'çok', 'çünkü', 'da', 'daha', 'de', 'defa', 'diye', 'eğer', 'en', 'gibi', 'hem', 'hep', 'hepsi',\n",
    "                'her', 'hiç', 'için', 'ile', 'ise', 'kez', 'ki', 'kim', 'm', 'mu', 'mü', 'nasil', 'ne', 'neden',\n",
    "                'nerde', 'nerede', 'nereye', 'niçin', 'niye', 'o', 'sanki', 'şey', 'siz', 'su',\n",
    "                'tum', 've', 'veya', 'ya', 'yani', 'bir', 'iki', 'üç', 'dört', 'beş', 'alti', 'yedi', 'sekiz', 'dokuz', 'on']\n",
    "    value = [item for item in value if not item in stop_words]\n",
    "    value=' '.join(value)\n",
    "    return value\n",
    "text = \"bugün çok yorgunum\"\n",
    "stem_word(text)"
   ]
  },
  {
   "cell_type": "code",
   "execution_count": 47,
   "id": "f1136c59-eaac-456b-92ff-503c21fb514a",
   "metadata": {},
   "outputs": [],
   "source": [
    "def pre_processing(value):\n",
    "    return [remove_numeric(remove_emoji\n",
    "                          (remove_singe_chracter\n",
    "                           (remove_noktalama\n",
    "                            (remove_link\n",
    "                             (remove_hashtag\n",
    "                              (remove_username\n",
    "                               (stem_word(word)))))))) for word in value.split()]\n",
    "    "
   ]
  },
  {
   "cell_type": "code",
   "execution_count": 49,
   "id": "72af9d09-b8e4-475f-9b91-511044a86d18",
   "metadata": {},
   "outputs": [],
   "source": [
    "df[\"Text_2\"] = df['Text'].apply(pre_processing)"
   ]
  },
  {
   "cell_type": "code",
   "execution_count": 51,
   "id": "b2226388-1f60-49e2-a744-ef6a0f98cb4d",
   "metadata": {},
   "outputs": [
    {
     "data": {
      "text/plain": [
       "'Yapay Zeka Nedir, Ne İşe Yarar?\\n\\nYapay zeka (YZ) bilgisayarlar ve diğer cihazların, insan zekasına benzer şekilde düşünmesini, öğrenmesini, kararlar vermesini ve problem çözmesini sağlayan bir bilim dalıdır. Yapay zeka teknolojisi, doğal dil işleme, ses tanıma, görüntü işleme,… https://t.co/nDH7iGOdFe'"
      ]
     },
     "execution_count": 51,
     "metadata": {},
     "output_type": "execute_result"
    }
   ],
   "source": [
    "df.loc[0,\"Text\"]"
   ]
  },
  {
   "cell_type": "code",
   "execution_count": 50,
   "id": "9300e85e-a48c-4dff-b564-d2c71f7a4a86",
   "metadata": {},
   "outputs": [
    {
     "data": {
      "text/plain": [
       "['yapay',\n",
       " 'zeka',\n",
       " 'nedir',\n",
       " '',\n",
       " 'işe',\n",
       " 'yarar',\n",
       " 'yapay',\n",
       " 'zeka',\n",
       " 'yz',\n",
       " 'bilgisayar',\n",
       " '',\n",
       " 'diğer',\n",
       " 'cihazların',\n",
       " 'in',\n",
       " 'zeka',\n",
       " 'benzer',\n",
       " 'şekil',\n",
       " 'düşünmesini',\n",
       " 'öğrenmesini',\n",
       " 'karar',\n",
       " 'verme',\n",
       " '',\n",
       " 'proble',\n",
       " 'çözme',\n",
       " 'sağlaya',\n",
       " '',\n",
       " 'bil',\n",
       " 'dalıdır',\n",
       " 'yapay',\n",
       " 'zeka',\n",
       " 'teknolojisi',\n",
       " 'doğal',\n",
       " 'dil',\n",
       " 'işleme',\n",
       " 'ses',\n",
       " 'tanıma',\n",
       " 'gör',\n",
       " 'işleme',\n",
       " '']"
      ]
     },
     "execution_count": 50,
     "metadata": {},
     "output_type": "execute_result"
    }
   ],
   "source": [
    "df.loc[0,\"Text_2\"]"
   ]
  },
  {
   "cell_type": "code",
   "execution_count": 52,
   "id": "80e6fcc4-37eb-4faf-980e-39dee9f59acf",
   "metadata": {},
   "outputs": [],
   "source": [
    "#Boşlukların Kaldırılması\n",
    "def remove_space(value):\n",
    "    return[item for item in value if item.strip()]\n",
    "df[\"Text_2\"] = df[\"Text_2\"].apply(remove_space)"
   ]
  },
  {
   "cell_type": "code",
   "execution_count": 53,
   "id": "13ace1fd-75c6-46dc-8794-bb0f5e4788cb",
   "metadata": {},
   "outputs": [
    {
     "data": {
      "text/plain": [
       "['yapay',\n",
       " 'zeka',\n",
       " 'nedir',\n",
       " 'işe',\n",
       " 'yarar',\n",
       " 'yapay',\n",
       " 'zeka',\n",
       " 'yz',\n",
       " 'bilgisayar',\n",
       " 'diğer',\n",
       " 'cihazların',\n",
       " 'in',\n",
       " 'zeka',\n",
       " 'benzer',\n",
       " 'şekil',\n",
       " 'düşünmesini',\n",
       " 'öğrenmesini',\n",
       " 'karar',\n",
       " 'verme',\n",
       " 'proble',\n",
       " 'çözme',\n",
       " 'sağlaya',\n",
       " 'bil',\n",
       " 'dalıdır',\n",
       " 'yapay',\n",
       " 'zeka',\n",
       " 'teknolojisi',\n",
       " 'doğal',\n",
       " 'dil',\n",
       " 'işleme',\n",
       " 'ses',\n",
       " 'tanıma',\n",
       " 'gör',\n",
       " 'işleme']"
      ]
     },
     "execution_count": 53,
     "metadata": {},
     "output_type": "execute_result"
    }
   ],
   "source": [
    "df.loc[0,\"Text_2\"]"
   ]
  },
  {
   "cell_type": "code",
   "execution_count": 54,
   "id": "94900f5a-2dd0-48e4-bb11-afe58eb8f3a8",
   "metadata": {},
   "outputs": [
    {
     "data": {
      "text/html": [
       "<div>\n",
       "<style scoped>\n",
       "    .dataframe tbody tr th:only-of-type {\n",
       "        vertical-align: middle;\n",
       "    }\n",
       "\n",
       "    .dataframe tbody tr th {\n",
       "        vertical-align: top;\n",
       "    }\n",
       "\n",
       "    .dataframe thead th {\n",
       "        text-align: right;\n",
       "    }\n",
       "</style>\n",
       "<table border=\"1\" class=\"dataframe\">\n",
       "  <thead>\n",
       "    <tr style=\"text-align: right;\">\n",
       "      <th></th>\n",
       "      <th>Text</th>\n",
       "      <th>Text_2</th>\n",
       "    </tr>\n",
       "  </thead>\n",
       "  <tbody>\n",
       "    <tr>\n",
       "      <th>0</th>\n",
       "      <td>Yapay Zeka Nedir, Ne İşe Yarar?\\n\\nYapay zeka ...</td>\n",
       "      <td>[yapay, zeka, nedir, işe, yarar, yapay, zeka, ...</td>\n",
       "    </tr>\n",
       "    <tr>\n",
       "      <th>1</th>\n",
       "      <td>🔎 Verilerinizi analiz edin: \\nChatGPT'yi kulla...</td>\n",
       "      <td>[veri, analiz, edin, chatgptyi, kullanarak, do...</td>\n",
       "    </tr>\n",
       "    <tr>\n",
       "      <th>2</th>\n",
       "      <td>Öncelikle yapay zekanın ne olduğunu, #dijitala...</td>\n",
       "      <td>[öncelik, yapay, zeka, olduğunu, iç, önemli, o...</td>\n",
       "    </tr>\n",
       "    <tr>\n",
       "      <th>3</th>\n",
       "      <td>9. Baidu Research: Çin'in önde gelen arama mot...</td>\n",
       "      <td>[baidu, research, çin, ön, gele, ara, motor, b...</td>\n",
       "    </tr>\n",
       "    <tr>\n",
       "      <th>4</th>\n",
       "      <td>4. Microsoft AI: Microsoft'un yapay zeka tekno...</td>\n",
       "      <td>[microsoft, ai, microsoft, yapay, zeka, teknol...</td>\n",
       "    </tr>\n",
       "  </tbody>\n",
       "</table>\n",
       "</div>"
      ],
      "text/plain": [
       "                                                Text   \n",
       "0  Yapay Zeka Nedir, Ne İşe Yarar?\\n\\nYapay zeka ...  \\\n",
       "1  🔎 Verilerinizi analiz edin: \\nChatGPT'yi kulla...   \n",
       "2  Öncelikle yapay zekanın ne olduğunu, #dijitala...   \n",
       "3  9. Baidu Research: Çin'in önde gelen arama mot...   \n",
       "4  4. Microsoft AI: Microsoft'un yapay zeka tekno...   \n",
       "\n",
       "                                              Text_2  \n",
       "0  [yapay, zeka, nedir, işe, yarar, yapay, zeka, ...  \n",
       "1  [veri, analiz, edin, chatgptyi, kullanarak, do...  \n",
       "2  [öncelik, yapay, zeka, olduğunu, iç, önemli, o...  \n",
       "3  [baidu, research, çin, ön, gele, ara, motor, b...  \n",
       "4  [microsoft, ai, microsoft, yapay, zeka, teknol...  "
      ]
     },
     "execution_count": 54,
     "metadata": {},
     "output_type": "execute_result"
    }
   ],
   "source": [
    "df.head()"
   ]
  },
  {
   "cell_type": "code",
   "execution_count": 2,
   "id": "e18ab6fa-8a7a-48bb-ad85-bcaec87b77d0",
   "metadata": {},
   "outputs": [],
   "source": [
    "import on_islem\n",
    "import pandas as pd"
   ]
  },
  {
   "cell_type": "code",
   "execution_count": 4,
   "id": "52212a93-748b-4d9a-b84a-b40c47a6d77c",
   "metadata": {},
   "outputs": [
    {
     "data": {
      "text/html": [
       "<div>\n",
       "<style scoped>\n",
       "    .dataframe tbody tr th:only-of-type {\n",
       "        vertical-align: middle;\n",
       "    }\n",
       "\n",
       "    .dataframe tbody tr th {\n",
       "        vertical-align: top;\n",
       "    }\n",
       "\n",
       "    .dataframe thead th {\n",
       "        text-align: right;\n",
       "    }\n",
       "</style>\n",
       "<table border=\"1\" class=\"dataframe\">\n",
       "  <thead>\n",
       "    <tr style=\"text-align: right;\">\n",
       "      <th></th>\n",
       "      <th>Text</th>\n",
       "    </tr>\n",
       "  </thead>\n",
       "  <tbody>\n",
       "    <tr>\n",
       "      <th>0</th>\n",
       "      <td>Yapay Zeka Nedir, Ne İşe Yarar?\\n\\nYapay zeka ...</td>\n",
       "    </tr>\n",
       "    <tr>\n",
       "      <th>1</th>\n",
       "      <td>🔎 Verilerinizi analiz edin: \\nChatGPT'yi kulla...</td>\n",
       "    </tr>\n",
       "    <tr>\n",
       "      <th>2</th>\n",
       "      <td>Öncelikle yapay zekanın ne olduğunu, #dijitala...</td>\n",
       "    </tr>\n",
       "    <tr>\n",
       "      <th>3</th>\n",
       "      <td>9. Baidu Research: Çin'in önde gelen arama mot...</td>\n",
       "    </tr>\n",
       "    <tr>\n",
       "      <th>4</th>\n",
       "      <td>4. Microsoft AI: Microsoft'un yapay zeka tekno...</td>\n",
       "    </tr>\n",
       "  </tbody>\n",
       "</table>\n",
       "</div>"
      ],
      "text/plain": [
       "                                                Text\n",
       "0  Yapay Zeka Nedir, Ne İşe Yarar?\\n\\nYapay zeka ...\n",
       "1  🔎 Verilerinizi analiz edin: \\nChatGPT'yi kulla...\n",
       "2  Öncelikle yapay zekanın ne olduğunu, #dijitala...\n",
       "3  9. Baidu Research: Çin'in önde gelen arama mot...\n",
       "4  4. Microsoft AI: Microsoft'un yapay zeka tekno..."
      ]
     },
     "execution_count": 4,
     "metadata": {},
     "output_type": "execute_result"
    }
   ],
   "source": [
    "df = pd.read_csv(\"data/nlp.csv\",index_col=0)\n",
    "df.head()"
   ]
  },
  {
   "cell_type": "code",
   "execution_count": 6,
   "id": "1d395fb6-258a-4a23-a42b-48e78531b42b",
   "metadata": {},
   "outputs": [
    {
     "data": {
      "text/html": [
       "<div>\n",
       "<style scoped>\n",
       "    .dataframe tbody tr th:only-of-type {\n",
       "        vertical-align: middle;\n",
       "    }\n",
       "\n",
       "    .dataframe tbody tr th {\n",
       "        vertical-align: top;\n",
       "    }\n",
       "\n",
       "    .dataframe thead th {\n",
       "        text-align: right;\n",
       "    }\n",
       "</style>\n",
       "<table border=\"1\" class=\"dataframe\">\n",
       "  <thead>\n",
       "    <tr style=\"text-align: right;\">\n",
       "      <th></th>\n",
       "      <th>Text</th>\n",
       "      <th>Text_2</th>\n",
       "    </tr>\n",
       "  </thead>\n",
       "  <tbody>\n",
       "    <tr>\n",
       "      <th>0</th>\n",
       "      <td>Yapay Zeka Nedir, Ne İşe Yarar?\\n\\nYapay zeka ...</td>\n",
       "      <td>[yapay, zeka, nedir, işe, yarar, yapay, zeka, ...</td>\n",
       "    </tr>\n",
       "    <tr>\n",
       "      <th>1</th>\n",
       "      <td>🔎 Verilerinizi analiz edin: \\nChatGPT'yi kulla...</td>\n",
       "      <td>[veri, analiz, edin, chatgptyi, kullanarak, do...</td>\n",
       "    </tr>\n",
       "    <tr>\n",
       "      <th>2</th>\n",
       "      <td>Öncelikle yapay zekanın ne olduğunu, #dijitala...</td>\n",
       "      <td>[öncelik, yapay, zeka, olduğunu, iç, önemli, o...</td>\n",
       "    </tr>\n",
       "    <tr>\n",
       "      <th>3</th>\n",
       "      <td>9. Baidu Research: Çin'in önde gelen arama mot...</td>\n",
       "      <td>[baidu, research, çin, ön, gele, ara, motor, b...</td>\n",
       "    </tr>\n",
       "    <tr>\n",
       "      <th>4</th>\n",
       "      <td>4. Microsoft AI: Microsoft'un yapay zeka tekno...</td>\n",
       "      <td>[microsoft, ai, microsoft, yapay, zeka, teknol...</td>\n",
       "    </tr>\n",
       "  </tbody>\n",
       "</table>\n",
       "</div>"
      ],
      "text/plain": [
       "                                                Text   \n",
       "0  Yapay Zeka Nedir, Ne İşe Yarar?\\n\\nYapay zeka ...  \\\n",
       "1  🔎 Verilerinizi analiz edin: \\nChatGPT'yi kulla...   \n",
       "2  Öncelikle yapay zekanın ne olduğunu, #dijitala...   \n",
       "3  9. Baidu Research: Çin'in önde gelen arama mot...   \n",
       "4  4. Microsoft AI: Microsoft'un yapay zeka tekno...   \n",
       "\n",
       "                                              Text_2  \n",
       "0  [yapay, zeka, nedir, işe, yarar, yapay, zeka, ...  \n",
       "1  [veri, analiz, edin, chatgptyi, kullanarak, do...  \n",
       "2  [öncelik, yapay, zeka, olduğunu, iç, önemli, o...  \n",
       "3  [baidu, research, çin, ön, gele, ara, motor, b...  \n",
       "4  [microsoft, ai, microsoft, yapay, zeka, teknol...  "
      ]
     },
     "execution_count": 6,
     "metadata": {},
     "output_type": "execute_result"
    }
   ],
   "source": [
    "df[\"Text_2\"] = df['Text'].apply(on_islem.pre_processing)\n",
    "df[\"Text_2\"] = df['Text_2'].apply(on_islem.remove_space)\n",
    "df.head()"
   ]
  }
 ],
 "metadata": {
  "kernelspec": {
   "display_name": "Python 3 (ipykernel)",
   "language": "python",
   "name": "python3"
  },
  "language_info": {
   "codemirror_mode": {
    "name": "ipython",
    "version": 3
   },
   "file_extension": ".py",
   "mimetype": "text/x-python",
   "name": "python",
   "nbconvert_exporter": "python",
   "pygments_lexer": "ipython3",
   "version": "3.10.10"
  }
 },
 "nbformat": 4,
 "nbformat_minor": 5
}
